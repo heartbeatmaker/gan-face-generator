{
  "nbformat": 4,
  "nbformat_minor": 0,
  "metadata": {
    "colab": {
      "name": "convert_h5_to_pb.ipynb",
      "provenance": [],
      "collapsed_sections": [],
      "include_colab_link": true
    },
    "kernelspec": {
      "name": "python3",
      "display_name": "Python 3"
    }
  },
  "cells": [
    {
      "cell_type": "markdown",
      "metadata": {
        "id": "view-in-github",
        "colab_type": "text"
      },
      "source": [
        "<a href=\"https://colab.research.google.com/github/heartbeatmaker/gan-face-generator/blob/master/convert_h5_to_pb.ipynb\" target=\"_parent\"><img src=\"https://colab.research.google.com/assets/colab-badge.svg\" alt=\"Open In Colab\"/></a>"
      ]
    },
    {
      "cell_type": "code",
      "metadata": {
        "id": "KhhZmzdmNB00",
        "colab_type": "code",
        "colab": {
          "base_uri": "https://localhost:8080/",
          "height": 124
        },
        "outputId": "0900c3e2-8046-409d-8c48-15f66d201014"
      },
      "source": [
        "# Run this for Google CoLab\n",
        "from google.colab import drive\n",
        "drive.mount('/content/drive')"
      ],
      "execution_count": 1,
      "outputs": [
        {
          "output_type": "stream",
          "text": [
            "Go to this URL in a browser: https://accounts.google.com/o/oauth2/auth?client_id=947318989803-6bn6qk8qdgf4n4g3pfee6491hc0brc4i.apps.googleusercontent.com&redirect_uri=urn%3Aietf%3Awg%3Aoauth%3A2.0%3Aoob&scope=email%20https%3A%2F%2Fwww.googleapis.com%2Fauth%2Fdocs.test%20https%3A%2F%2Fwww.googleapis.com%2Fauth%2Fdrive%20https%3A%2F%2Fwww.googleapis.com%2Fauth%2Fdrive.photos.readonly%20https%3A%2F%2Fwww.googleapis.com%2Fauth%2Fpeopleapi.readonly&response_type=code\n",
            "\n",
            "Enter your authorization code:\n",
            "··········\n",
            "Mounted at /content/drive\n"
          ],
          "name": "stdout"
        }
      ]
    },
    {
      "cell_type": "code",
      "metadata": {
        "id": "3UKh4jnwOgN8",
        "colab_type": "code",
        "colab": {
          "base_uri": "https://localhost:8080/",
          "height": 141
        },
        "outputId": "f7531fe0-2252-45b8-9003-67ca4b8d4c59"
      },
      "source": [
        "from tensorflow.python.framework import graph_util\n",
        "from tensorflow.python.framework import graph_io\n",
        "import tensorflow as tf\n",
        "from keras.models import load_model\n",
        "from keras import backend as K\n",
        "import os.path as osp\n",
        "import os\n",
        "\n",
        "model = load_model('/content/drive/My Drive/projects/faces/face_generator.h5')\n",
        "nb_classes = 1 # The number of output nodes in the model\n",
        "prefix_output_node_names_of_final_network = 'output_node'\n",
        "\n",
        "K.set_learning_phase(0)\n",
        "\n",
        "pred = [None]*nb_classes\n",
        "pred_node_names = [None]*nb_classes\n",
        "for i in range(nb_classes):\n",
        "    pred_node_names[i] = prefix_output_node_names_of_final_network+str(i)\n",
        "    pred[i] = tf.identity(model.output[i], name=pred_node_names[i])\n",
        "print('output nodes names are: ', pred_node_names)\n",
        "\n",
        "sess = K.get_session()\n",
        "output_fld = '/content/drive/My Drive/projects/faces/tensorflow_model/'\n",
        "if not os.path.isdir(output_fld):\n",
        "    os.mkdir(output_fld)\n",
        "output_graph_name = 'face_generator_tfmodel.pb'\n",
        "output_graph_suffix = '_inference'\n",
        "\n",
        "constant_graph = graph_util.convert_variables_to_constants(sess, sess.graph.as_graph_def(), pred_node_names)\n",
        "graph_io.write_graph(constant_graph, output_fld, output_graph_name, as_text=False)\n",
        "print('saved the constant graph (ready for inference) at: ', osp.join(output_fld, output_graph_name))"
      ],
      "execution_count": 6,
      "outputs": [
        {
          "output_type": "stream",
          "text": [
            "/usr/local/lib/python3.6/dist-packages/keras/engine/saving.py:310: UserWarning: No training configuration found in save file: the model was *not* compiled. Compile it manually.\n",
            "  warnings.warn('No training configuration found in save file: '\n"
          ],
          "name": "stderr"
        },
        {
          "output_type": "stream",
          "text": [
            "output nodes names are:  ['output_node0']\n",
            "INFO:tensorflow:Froze 28 variables.\n",
            "INFO:tensorflow:Converted 28 variables to const ops.\n",
            "saved the constant graph (ready for inference) at:  /content/drive/My Drive/projects/faces/tensorflow_model/face_generator_tfmodel.pb\n"
          ],
          "name": "stdout"
        }
      ]
    }
  ]
}